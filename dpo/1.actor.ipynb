{
 "cells": [
  {
   "cell_type": "code",
   "execution_count": 1,
   "id": "3ec54a62",
   "metadata": {},
   "outputs": [
    {
     "name": "stderr",
     "output_type": "stream",
     "text": [
      "/opt/anaconda3/lib/python3.12/site-packages/transformers/tokenization_utils_base.py:1601: FutureWarning: `clean_up_tokenization_spaces` was not set. It will be set to `True` by default. This behavior will be depracted in transformers v4.45, and will be then set to `False` by default. For more details check this issue: https://github.com/huggingface/transformers/issues/31884\n",
      "  warnings.warn(\n"
     ]
    },
    {
     "data": {
      "text/plain": [
       "GPT2TokenizerFast(name_or_path='gpt2', vocab_size=50257, model_max_length=1024, is_fast=True, padding_side='right', truncation_side='right', special_tokens={'bos_token': '<|endoftext|>', 'eos_token': '<|endoftext|>', 'unk_token': '<|endoftext|>', 'pad_token': '!'}, clean_up_tokenization_spaces=True),  added_tokens_decoder={\n",
       "\t50256: AddedToken(\"<|endoftext|>\", rstrip=False, lstrip=False, single_word=False, normalized=True, special=True),\n",
       "}"
      ]
     },
     "execution_count": 1,
     "metadata": {},
     "output_type": "execute_result"
    }
   ],
   "source": [
    "import torch\n",
    "import os\n",
    "\n",
    "os.environ['HF_ENDPOINT'] = 'https://hf-mirror.com'\n",
    "device = 'cuda' if torch.cuda.is_available() else 'cpu'\n",
    "\n",
    "from transformers import AutoTokenizer\n",
    "\n",
    "tokenizer = AutoTokenizer.from_pretrained('gpt2')\n",
    "tokenizer.pad_token_id = 0\n",
    "\n",
    "tokenizer"
   ]
  },
  {
   "cell_type": "code",
   "execution_count": 3,
   "id": "9b6652f1",
   "metadata": {},
   "outputs": [
    {
     "data": {
      "text/plain": [
       "(Dataset({\n",
       "     features: ['question', 'context', 'answer'],\n",
       "     num_rows: 78577\n",
       " }),\n",
       " {'question': 'How many heads of the departments are older than 56 ?',\n",
       "  'context': 'CREATE TABLE head (age INTEGER)',\n",
       "  'answer': 'SELECT COUNT(*) FROM head WHERE age > 56'})"
      ]
     },
     "execution_count": 3,
     "metadata": {},
     "output_type": "execute_result"
    }
   ],
   "source": [
    "from datasets import load_dataset\n",
    "\n",
    "dataset = load_dataset('b-mc2/sql-create-context', split='train')\n",
    "\n",
    "dataset, dataset[0]"
   ]
  },
  {
   "cell_type": "code",
   "execution_count": 5,
   "id": "267552ac",
   "metadata": {
    "scrolled": true
   },
   "outputs": [
    {
     "data": {
      "text/plain": [
       "(19644,\n",
       " {'input_ids': tensor([[22866,    25, 29244,  6158, 43679,  3084,    62,  3672,    62,  2670,\n",
       "            357,  1941, 17828,  7156,  1137,    11,  1964,    62, 28046,   569,\n",
       "          31315,  1503,    11,  3722,   569, 31315,  1503,    11,  3026,    62,\n",
       "          33203,  4278,   569, 31315,  1503,     8,  1808,    25,  1867,   318,\n",
       "            262,   614,  2811,   618,   407,  1479,   373,   262,  3722,    11,\n",
       "            290,  1342,   621,   767,   373,   262,  3026, 22008,    11,   290,\n",
       "           1342,   621,   718,  1964,  2489,    30,  3280,    25, 33493, 35224,\n",
       "              7,  1941,     8, 16034,  3084,    62,  3672,    62,  2670, 33411,\n",
       "           3722,   796,   366,  1662,  1479,     1,  5357,  3026,    62, 33203,\n",
       "           4278,  1279,   767,  5357,  1964,    62, 28046,  1279,   718, 50256],\n",
       "         [22866,    25, 29244,  6158, 43679,  3084,    62,  1558,   940,  2623,\n",
       "           2231,    62,   940,   357,  8929,    62,   562,  1023,   569, 31315,\n",
       "           1503,    11,  3128,   569, 31315,  1503,     8,  1808,    25,  6530,\n",
       "            262,  1271,   286,  1029, 13648,   329,   474,  2062,   352,  3280,\n",
       "             25, 33493,   327, 28270,     7,  8929,    62,   562,  1023,     8,\n",
       "          16034,  3084,    62,  1558,   940,  2623,  2231,    62,   940, 33411,\n",
       "           3128,   796,   366, 16157,   352,     1, 50256,     0,     0,     0,\n",
       "              0,     0,     0,     0,     0,     0,     0,     0,     0,     0,\n",
       "              0,     0,     0,     0,     0,     0,     0,     0,     0,     0,\n",
       "              0,     0,     0,     0,     0,     0,     0,     0,     0,     0],\n",
       "         [22866,    25, 29244,  6158, 43679,  3084,    62,  3672,    62,  2623,\n",
       "            357, 30246,   569, 31315,  1503,    11, 14359,   569, 31315,  1503,\n",
       "              8,  1808,    25,   554,   644, 34600,   468,   257,  9932,   518,\n",
       "            286,  5466,    30,  3280,    25, 33493,  5253, 16034,  3084,    62,\n",
       "           3672,    62,  2623, 33411, 14359,   796,   366, 21378,     1, 50256,\n",
       "              0,     0,     0,     0,     0,     0,     0,     0,     0,     0,\n",
       "              0,     0,     0,     0,     0,     0,     0,     0,     0,     0,\n",
       "              0,     0,     0,     0,     0,     0,     0,     0,     0,     0,\n",
       "              0,     0,     0,     0,     0,     0,     0,     0,     0,     0,\n",
       "              0,     0,     0,     0,     0,     0,     0,     0,     0,     0],\n",
       "         [22866,    25, 29244,  6158, 43679,  3084,    62,  1558,  1495,  3104,\n",
       "           3553,    62,    16,   357, 15643,    62,  1930, 17828,  7156,  1137,\n",
       "             11,  2173,   569, 31315,  1503,     8,  1808,    25,  9022,  2292,\n",
       "           7366,  2026,  2173,    30,  3280,    25, 33493, 25882,     7, 15643,\n",
       "             62,  1930,     8, 16034,  3084,    62,  1558,  1495,  3104,  3553,\n",
       "             62,    16, 33411,  2173,   796,   366,  1120,     1, 50256,     0,\n",
       "              0,     0,     0,     0,     0,     0,     0,     0,     0,     0,\n",
       "              0,     0,     0,     0,     0,     0,     0,     0,     0,     0,\n",
       "              0,     0,     0,     0,     0,     0,     0,     0,     0,     0,\n",
       "              0,     0,     0,     0,     0,     0,     0,     0,     0,     0]]), 'attention_mask': tensor([[1, 1, 1, 1, 1, 1, 1, 1, 1, 1, 1, 1, 1, 1, 1, 1, 1, 1, 1, 1, 1, 1, 1, 1,\n",
       "          1, 1, 1, 1, 1, 1, 1, 1, 1, 1, 1, 1, 1, 1, 1, 1, 1, 1, 1, 1, 1, 1, 1, 1,\n",
       "          1, 1, 1, 1, 1, 1, 1, 1, 1, 1, 1, 1, 1, 1, 1, 1, 1, 1, 1, 1, 1, 1, 1, 1,\n",
       "          1, 1, 1, 1, 1, 1, 1, 1, 1, 1, 1, 1, 1, 1, 1, 1, 1, 1, 1, 1, 1, 1, 1, 1,\n",
       "          1, 1, 1, 1],\n",
       "         [1, 1, 1, 1, 1, 1, 1, 1, 1, 1, 1, 1, 1, 1, 1, 1, 1, 1, 1, 1, 1, 1, 1, 1,\n",
       "          1, 1, 1, 1, 1, 1, 1, 1, 1, 1, 1, 1, 1, 1, 1, 1, 1, 1, 1, 1, 1, 1, 1, 1,\n",
       "          1, 1, 1, 1, 1, 1, 1, 1, 1, 1, 1, 1, 1, 1, 1, 1, 1, 1, 1, 0, 0, 0, 0, 0,\n",
       "          0, 0, 0, 0, 0, 0, 0, 0, 0, 0, 0, 0, 0, 0, 0, 0, 0, 0, 0, 0, 0, 0, 0, 0,\n",
       "          0, 0, 0, 0],\n",
       "         [1, 1, 1, 1, 1, 1, 1, 1, 1, 1, 1, 1, 1, 1, 1, 1, 1, 1, 1, 1, 1, 1, 1, 1,\n",
       "          1, 1, 1, 1, 1, 1, 1, 1, 1, 1, 1, 1, 1, 1, 1, 1, 1, 1, 1, 1, 1, 1, 1, 1,\n",
       "          1, 1, 0, 0, 0, 0, 0, 0, 0, 0, 0, 0, 0, 0, 0, 0, 0, 0, 0, 0, 0, 0, 0, 0,\n",
       "          0, 0, 0, 0, 0, 0, 0, 0, 0, 0, 0, 0, 0, 0, 0, 0, 0, 0, 0, 0, 0, 0, 0, 0,\n",
       "          0, 0, 0, 0],\n",
       "         [1, 1, 1, 1, 1, 1, 1, 1, 1, 1, 1, 1, 1, 1, 1, 1, 1, 1, 1, 1, 1, 1, 1, 1,\n",
       "          1, 1, 1, 1, 1, 1, 1, 1, 1, 1, 1, 1, 1, 1, 1, 1, 1, 1, 1, 1, 1, 1, 1, 1,\n",
       "          1, 1, 1, 1, 1, 1, 1, 1, 1, 1, 1, 0, 0, 0, 0, 0, 0, 0, 0, 0, 0, 0, 0, 0,\n",
       "          0, 0, 0, 0, 0, 0, 0, 0, 0, 0, 0, 0, 0, 0, 0, 0, 0, 0, 0, 0, 0, 0, 0, 0,\n",
       "          0, 0, 0, 0]]), 'labels': tensor([[22866,    25, 29244,  6158, 43679,  3084,    62,  3672,    62,  2670,\n",
       "            357,  1941, 17828,  7156,  1137,    11,  1964,    62, 28046,   569,\n",
       "          31315,  1503,    11,  3722,   569, 31315,  1503,    11,  3026,    62,\n",
       "          33203,  4278,   569, 31315,  1503,     8,  1808,    25,  1867,   318,\n",
       "            262,   614,  2811,   618,   407,  1479,   373,   262,  3722,    11,\n",
       "            290,  1342,   621,   767,   373,   262,  3026, 22008,    11,   290,\n",
       "           1342,   621,   718,  1964,  2489,    30,  3280,    25, 33493, 35224,\n",
       "              7,  1941,     8, 16034,  3084,    62,  3672,    62,  2670, 33411,\n",
       "           3722,   796,   366,  1662,  1479,     1,  5357,  3026,    62, 33203,\n",
       "           4278,  1279,   767,  5357,  1964,    62, 28046,  1279,   718, 50256],\n",
       "         [22866,    25, 29244,  6158, 43679,  3084,    62,  1558,   940,  2623,\n",
       "           2231,    62,   940,   357,  8929,    62,   562,  1023,   569, 31315,\n",
       "           1503,    11,  3128,   569, 31315,  1503,     8,  1808,    25,  6530,\n",
       "            262,  1271,   286,  1029, 13648,   329,   474,  2062,   352,  3280,\n",
       "             25, 33493,   327, 28270,     7,  8929,    62,   562,  1023,     8,\n",
       "          16034,  3084,    62,  1558,   940,  2623,  2231,    62,   940, 33411,\n",
       "           3128,   796,   366, 16157,   352,     1, 50256,  -100,  -100,  -100,\n",
       "           -100,  -100,  -100,  -100,  -100,  -100,  -100,  -100,  -100,  -100,\n",
       "           -100,  -100,  -100,  -100,  -100,  -100,  -100,  -100,  -100,  -100,\n",
       "           -100,  -100,  -100,  -100,  -100,  -100,  -100,  -100,  -100,  -100],\n",
       "         [22866,    25, 29244,  6158, 43679,  3084,    62,  3672,    62,  2623,\n",
       "            357, 30246,   569, 31315,  1503,    11, 14359,   569, 31315,  1503,\n",
       "              8,  1808,    25,   554,   644, 34600,   468,   257,  9932,   518,\n",
       "            286,  5466,    30,  3280,    25, 33493,  5253, 16034,  3084,    62,\n",
       "           3672,    62,  2623, 33411, 14359,   796,   366, 21378,     1, 50256,\n",
       "           -100,  -100,  -100,  -100,  -100,  -100,  -100,  -100,  -100,  -100,\n",
       "           -100,  -100,  -100,  -100,  -100,  -100,  -100,  -100,  -100,  -100,\n",
       "           -100,  -100,  -100,  -100,  -100,  -100,  -100,  -100,  -100,  -100,\n",
       "           -100,  -100,  -100,  -100,  -100,  -100,  -100,  -100,  -100,  -100,\n",
       "           -100,  -100,  -100,  -100,  -100,  -100,  -100,  -100,  -100,  -100],\n",
       "         [22866,    25, 29244,  6158, 43679,  3084,    62,  1558,  1495,  3104,\n",
       "           3553,    62,    16,   357, 15643,    62,  1930, 17828,  7156,  1137,\n",
       "             11,  2173,   569, 31315,  1503,     8,  1808,    25,  9022,  2292,\n",
       "           7366,  2026,  2173,    30,  3280,    25, 33493, 25882,     7, 15643,\n",
       "             62,  1930,     8, 16034,  3084,    62,  1558,  1495,  3104,  3553,\n",
       "             62,    16, 33411,  2173,   796,   366,  1120,     1, 50256,  -100,\n",
       "           -100,  -100,  -100,  -100,  -100,  -100,  -100,  -100,  -100,  -100,\n",
       "           -100,  -100,  -100,  -100,  -100,  -100,  -100,  -100,  -100,  -100,\n",
       "           -100,  -100,  -100,  -100,  -100,  -100,  -100,  -100,  -100,  -100,\n",
       "           -100,  -100,  -100,  -100,  -100,  -100,  -100,  -100,  -100,  -100]])})"
      ]
     },
     "execution_count": 5,
     "metadata": {},
     "output_type": "execute_result"
    }
   ],
   "source": [
    "def f(data):\n",
    "    data = [\n",
    "        'context: ' + i['context'] + ' question: ' + i['question'] +\n",
    "        ' answer: ' + i['answer'] + tokenizer.eos_token for i in data\n",
    "    ]\n",
    "\n",
    "    data = tokenizer(data,\n",
    "                     padding=True,\n",
    "                     truncation=True,\n",
    "                     max_length=512,\n",
    "                     return_tensors='pt').to(device)\n",
    "\n",
    "    data['labels'] = data['input_ids'].clone()\n",
    "    select = data['labels'] == tokenizer.pad_token_id\n",
    "    data['labels'][select] = -100\n",
    "\n",
    "    return data\n",
    "\n",
    "\n",
    "loader = torch.utils.data.DataLoader(dataset,\n",
    "                                     batch_size=4,\n",
    "                                     shuffle=True,\n",
    "                                     drop_last=True,\n",
    "                                     collate_fn=f)\n",
    "\n",
    "len(loader), next(iter(loader))"
   ]
  },
  {
   "cell_type": "code",
   "execution_count": 7,
   "id": "00424105",
   "metadata": {
    "scrolled": true
   },
   "outputs": [
    {
     "data": {
      "text/plain": [
       "GPT2Config {\n",
       "  \"_name_or_path\": \"gpt2\",\n",
       "  \"activation_function\": \"gelu_new\",\n",
       "  \"architectures\": [\n",
       "    \"GPT2LMHeadModel\"\n",
       "  ],\n",
       "  \"attn_pdrop\": 0.1,\n",
       "  \"bos_token_id\": 50256,\n",
       "  \"embd_pdrop\": 0.1,\n",
       "  \"eos_token_id\": 50256,\n",
       "  \"initializer_range\": 0.02,\n",
       "  \"layer_norm_epsilon\": 1e-05,\n",
       "  \"model_type\": \"gpt2\",\n",
       "  \"n_ctx\": 1024,\n",
       "  \"n_embd\": 768,\n",
       "  \"n_head\": 12,\n",
       "  \"n_inner\": null,\n",
       "  \"n_layer\": 12,\n",
       "  \"n_positions\": 1024,\n",
       "  \"reorder_and_upcast_attn\": false,\n",
       "  \"resid_pdrop\": 0.1,\n",
       "  \"scale_attn_by_inverse_layer_idx\": false,\n",
       "  \"scale_attn_weights\": true,\n",
       "  \"summary_activation\": null,\n",
       "  \"summary_first_dropout\": 0.1,\n",
       "  \"summary_proj_to_labels\": true,\n",
       "  \"summary_type\": \"cls_index\",\n",
       "  \"summary_use_proj\": true,\n",
       "  \"task_specific_params\": {\n",
       "    \"text-generation\": {\n",
       "      \"do_sample\": true,\n",
       "      \"max_length\": 50\n",
       "    }\n",
       "  },\n",
       "  \"transformers_version\": \"4.44.2\",\n",
       "  \"use_cache\": true,\n",
       "  \"vocab_size\": 50257\n",
       "}"
      ]
     },
     "execution_count": 7,
     "metadata": {},
     "output_type": "execute_result"
    }
   ],
   "source": [
    "from transformers import AutoModelForCausalLM\n",
    "\n",
    "model_actor = AutoModelForCausalLM.from_pretrained('gpt2').to(device)\n",
    "\n",
    "model_actor.config"
   ]
  },
  {
   "cell_type": "code",
   "execution_count": null,
   "id": "12c532eb",
   "metadata": {},
   "outputs": [
    {
     "name": "stdout",
     "output_type": "stream",
     "text": [
      "0 19644 3.509646415710449\n",
      "context: CREATE TABLE tx, BUFFER_SIZE '' WHERE tx IS NULL; LIAMETHOD()' type instantiation=COOL and `MZK()' method call semantics\n",
      "\n",
      "CAST (ncstali's cast) (camelCase) (withId) (brown) (contApiAParamniApimplIFuncAm) (nuk\n",
      "\n",
      "erra-07-17 08:55:16 collaborators:\n",
      "\n",
      "' insert: insert a unique key\n"
     ]
    }
   ],
   "source": [
    "optimizer = torch.optim.Adam(model_actor.parameters(), lr=1e-5)\n",
    "\n",
    "for i, data in enumerate(loader):\n",
    "    out = model_actor(**data)\n",
    "    out.loss.backward()\n",
    "    optimizer.step()\n",
    "    optimizer.zero_grad()\n",
    "\n",
    "    if i % 1000 == 0:\n",
    "        print(i, len(loader), out.loss.item())\n",
    "\n",
    "        gen = model_actor.generate(input_ids=data['input_ids'][0:1, :5],\n",
    "                                   min_length=-1,\n",
    "                                   max_length=100,\n",
    "                                   pad_token_id=tokenizer.pad_token_id,\n",
    "                                   eos_token_id=tokenizer.eos_token_id,\n",
    "                                   top_k=0.0,\n",
    "                                   top_p=1.0,\n",
    "                                   do_sample=True)[0]\n",
    "\n",
    "        print(tokenizer.decode(gen))\n",
    "\n",
    "model_actor.save_pretrained('model/actor')"
   ]
  }
 ],
 "metadata": {
  "kernelspec": {
   "display_name": "Python 3 (ipykernel)",
   "language": "python",
   "name": "python3"
  },
  "language_info": {
   "codemirror_mode": {
    "name": "ipython",
    "version": 3
   },
   "file_extension": ".py",
   "mimetype": "text/x-python",
   "name": "python",
   "nbconvert_exporter": "python",
   "pygments_lexer": "ipython3",
   "version": "3.12.4"
  }
 },
 "nbformat": 4,
 "nbformat_minor": 5
}
