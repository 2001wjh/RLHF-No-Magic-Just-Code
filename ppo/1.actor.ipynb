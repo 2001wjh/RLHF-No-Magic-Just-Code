{
 "cells": [
  {
   "cell_type": "code",
   "execution_count": 1,
   "id": "3ec54a62",
   "metadata": {},
   "outputs": [
    {
     "data": {
      "text/plain": [
       "GPT2TokenizerFast(name_or_path='gpt2-imdb', vocab_size=50257, model_max_length=1024, is_fast=True, padding_side='right', truncation_side='right', special_tokens={'bos_token': '<|endoftext|>', 'eos_token': '<|endoftext|>', 'unk_token': '<|endoftext|>', 'pad_token': '<|endoftext|>'}, clean_up_tokenization_spaces=False, added_tokens_decoder={\n",
       "\t50256: AddedToken(\"<|endoftext|>\", rstrip=False, lstrip=False, single_word=False, normalized=True, special=True),\n",
       "}\n",
       ")"
      ]
     },
     "execution_count": 1,
     "metadata": {},
     "output_type": "execute_result"
    }
   ],
   "source": [
    "import torch\n",
    "import os\n",
    "\n",
    "os.environ['HF_ENDPOINT'] = 'https://hf-mirror.com'\n",
    "device = 'cuda' if torch.cuda.is_available() else 'cpu'\n",
    "\n",
    "from transformers import AutoTokenizer\n",
    "\n",
    "tokenizer = AutoTokenizer.from_pretrained('gpt2-imdb')\n",
    "tokenizer.pad_token = tokenizer.eos_token\n",
    "\n",
    "tokenizer"
   ]
  },
  {
   "cell_type": "code",
   "execution_count": 2,
   "id": "267552ac",
   "metadata": {
    "scrolled": true
   },
   "outputs": [
    {
     "data": {
      "application/vnd.jupyter.widget-view+json": {
       "model_id": "15b48634bb4248008dbaa796778277cd",
       "version_major": 2,
       "version_minor": 0
      },
      "text/plain": [
       "Generating train split: 0 examples [00:00, ? examples/s]"
      ]
     },
     "metadata": {},
     "output_type": "display_data"
    },
    {
     "data": {
      "application/vnd.jupyter.widget-view+json": {
       "model_id": "7187c16c92114fc9ac6852400482a12f",
       "version_major": 2,
       "version_minor": 0
      },
      "text/plain": [
       "Generating test split: 0 examples [00:00, ? examples/s]"
      ]
     },
     "metadata": {},
     "output_type": "display_data"
    },
    {
     "data": {
      "text/plain": [
       "(12500,\n",
       " {'input_ids': tensor([[ 3666,  3656,   290,   314,  7342,   428,  3807,   780,   356,  1410,\n",
       "            284,  3187, 49301,   290,   520,   398,    65, 11106,  2582,    13,\n",
       "          20525,   357,   273, 12716,     8,   262, 10747,   290,   384,  3372,\n",
       "           1758,   357, 20751,   351, 38883,     8,   389,   262,   691, 41632,\n",
       "           1866,   286,   428,  3350,    13,   775,  2938,  6397,   880,    12],\n",
       "         [16350,    11,   314,  8359,   428,  2646,   290,   561,  4313,   340,\n",
       "            284, 19907,  2646, 20175, 29847,  1671,  1220,  6927,  1671, 11037,\n",
       "           4864,    11,   314,  1107,   765,   284,  3465,   262, 20594,  1022,\n",
       "           3354,   286,   428,  2646,   290, 38403,     6,  1012, 13416,    13,\n",
       "           1881,  3715,  2592,   810, 21462, 19674,   959,   338,  2095,   318],\n",
       "         [30402,    11,   257,  4858,  1182, 11699,   318,   262, 13996,   329,\n",
       "           3488, 21488, 25671,    11,  6225,   257, 34082, 41221,   776,   656,\n",
       "            257,   300, 21985,   290,   267,  1878,   680,  3290, 32408,    13,\n",
       "           4418,   357,  5661,  3392,   329,   262, 17308,   828,   340,  2331,\n",
       "            326,   262,  2166,  8946,   286,   257, 19906,  4436,   318,   281],\n",
       "         [  464,  1688, 11804,   351,   262,  2646,   318,   663,   555, 24194,\n",
       "           4226,    13,   632,   458, 12978,   736,   290,  6071,  1022,   410,\n",
       "            570, 23014,   286, 43599,   494,   338,  1621,   290,   302,    12,\n",
       "           7513,   602,   286,   262,   509,  6270,  1790,  7328,    13,  2893,\n",
       "            262,   509,  6270,   302,    12,  7513,   602,   389,   880,  1760]]), 'attention_mask': tensor([[1, 1, 1, 1, 1, 1, 1, 1, 1, 1, 1, 1, 1, 1, 1, 1, 1, 1, 1, 1, 1, 1, 1, 1,\n",
       "          1, 1, 1, 1, 1, 1, 1, 1, 1, 1, 1, 1, 1, 1, 1, 1, 1, 1, 1, 1, 1, 1, 1, 1,\n",
       "          1, 1],\n",
       "         [1, 1, 1, 1, 1, 1, 1, 1, 1, 1, 1, 1, 1, 1, 1, 1, 1, 1, 1, 1, 1, 1, 1, 1,\n",
       "          1, 1, 1, 1, 1, 1, 1, 1, 1, 1, 1, 1, 1, 1, 1, 1, 1, 1, 1, 1, 1, 1, 1, 1,\n",
       "          1, 1],\n",
       "         [1, 1, 1, 1, 1, 1, 1, 1, 1, 1, 1, 1, 1, 1, 1, 1, 1, 1, 1, 1, 1, 1, 1, 1,\n",
       "          1, 1, 1, 1, 1, 1, 1, 1, 1, 1, 1, 1, 1, 1, 1, 1, 1, 1, 1, 1, 1, 1, 1, 1,\n",
       "          1, 1],\n",
       "         [1, 1, 1, 1, 1, 1, 1, 1, 1, 1, 1, 1, 1, 1, 1, 1, 1, 1, 1, 1, 1, 1, 1, 1,\n",
       "          1, 1, 1, 1, 1, 1, 1, 1, 1, 1, 1, 1, 1, 1, 1, 1, 1, 1, 1, 1, 1, 1, 1, 1,\n",
       "          1, 1]]), 'labels': tensor([[ 3666,  3656,   290,   314,  7342,   428,  3807,   780,   356,  1410,\n",
       "            284,  3187, 49301,   290,   520,   398,    65, 11106,  2582,    13,\n",
       "          20525,   357,   273, 12716,     8,   262, 10747,   290,   384,  3372,\n",
       "           1758,   357, 20751,   351, 38883,     8,   389,   262,   691, 41632,\n",
       "           1866,   286,   428,  3350,    13,   775,  2938,  6397,   880,    12],\n",
       "         [16350,    11,   314,  8359,   428,  2646,   290,   561,  4313,   340,\n",
       "            284, 19907,  2646, 20175, 29847,  1671,  1220,  6927,  1671, 11037,\n",
       "           4864,    11,   314,  1107,   765,   284,  3465,   262, 20594,  1022,\n",
       "           3354,   286,   428,  2646,   290, 38403,     6,  1012, 13416,    13,\n",
       "           1881,  3715,  2592,   810, 21462, 19674,   959,   338,  2095,   318],\n",
       "         [30402,    11,   257,  4858,  1182, 11699,   318,   262, 13996,   329,\n",
       "           3488, 21488, 25671,    11,  6225,   257, 34082, 41221,   776,   656,\n",
       "            257,   300, 21985,   290,   267,  1878,   680,  3290, 32408,    13,\n",
       "           4418,   357,  5661,  3392,   329,   262, 17308,   828,   340,  2331,\n",
       "            326,   262,  2166,  8946,   286,   257, 19906,  4436,   318,   281],\n",
       "         [  464,  1688, 11804,   351,   262,  2646,   318,   663,   555, 24194,\n",
       "           4226,    13,   632,   458, 12978,   736,   290,  6071,  1022,   410,\n",
       "            570, 23014,   286, 43599,   494,   338,  1621,   290,   302,    12,\n",
       "           7513,   602,   286,   262,   509,  6270,  1790,  7328,    13,  2893,\n",
       "            262,   509,  6270,   302,    12,  7513,   602,   389,   880,  1760]])})"
      ]
     },
     "execution_count": 2,
     "metadata": {},
     "output_type": "execute_result"
    }
   ],
   "source": [
    "from datasets import load_dataset, concatenate_datasets\n",
    "\n",
    "dataset = load_dataset('imdb')\n",
    "dataset = concatenate_datasets(list((dataset.values())))\n",
    "dataset = dataset.remove_columns(['label'])\n",
    "\n",
    "\n",
    "def f(data):\n",
    "    data = [i['text'] for i in data]\n",
    "\n",
    "    data = tokenizer(data,\n",
    "                     padding=True,\n",
    "                     truncation=True,\n",
    "                     max_length=50,\n",
    "                     return_tensors='pt').to(device)\n",
    "\n",
    "    data['labels'] = data['input_ids'].clone()\n",
    "    select = data['labels'] == tokenizer.pad_token_id\n",
    "    data['labels'][select] = -100\n",
    "\n",
    "    return data\n",
    "\n",
    "\n",
    "loader = torch.utils.data.DataLoader(dataset,\n",
    "                                     batch_size=4,\n",
    "                                     shuffle=True,\n",
    "                                     drop_last=True,\n",
    "                                     collate_fn=f)\n",
    "\n",
    "len(loader), next(iter(loader))"
   ]
  },
  {
   "cell_type": "code",
   "execution_count": 3,
   "id": "00424105",
   "metadata": {
    "scrolled": true
   },
   "outputs": [
    {
     "name": "stderr",
     "output_type": "stream",
     "text": [
      "/Library/Frameworks/Python.framework/Versions/3.11/lib/python3.11/site-packages/torch/_utils.py:776: UserWarning: TypedStorage is deprecated. It will be removed in the future and UntypedStorage will be the only storage class. This should only matter to you if you are using storages directly.  To access UntypedStorage directly, use tensor.untyped_storage() instead of tensor.storage()\n",
      "  return self.fget.__get__(instance, owner)()\n"
     ]
    },
    {
     "data": {
      "text/plain": [
       "GPT2Config {\n",
       "  \"_attn_implementation_autoset\": true,\n",
       "  \"_name_or_path\": \"gpt2-imdb\",\n",
       "  \"activation_function\": \"gelu_new\",\n",
       "  \"architectures\": [\n",
       "    \"GPT2LMHeadModel\"\n",
       "  ],\n",
       "  \"attn_pdrop\": 0.1,\n",
       "  \"bos_token_id\": 50256,\n",
       "  \"embd_pdrop\": 0.1,\n",
       "  \"eos_token_id\": 50256,\n",
       "  \"initializer_range\": 0.02,\n",
       "  \"layer_norm_epsilon\": 1e-05,\n",
       "  \"model_type\": \"gpt2\",\n",
       "  \"n_ctx\": 1024,\n",
       "  \"n_embd\": 768,\n",
       "  \"n_head\": 12,\n",
       "  \"n_inner\": null,\n",
       "  \"n_layer\": 12,\n",
       "  \"n_positions\": 1024,\n",
       "  \"output_past\": true,\n",
       "  \"reorder_and_upcast_attn\": false,\n",
       "  \"resid_pdrop\": 0.1,\n",
       "  \"scale_attn_by_inverse_layer_idx\": false,\n",
       "  \"scale_attn_weights\": true,\n",
       "  \"summary_activation\": null,\n",
       "  \"summary_first_dropout\": 0.1,\n",
       "  \"summary_proj_to_labels\": true,\n",
       "  \"summary_type\": \"cls_index\",\n",
       "  \"summary_use_proj\": true,\n",
       "  \"torch_dtype\": \"float32\",\n",
       "  \"transformers_version\": \"4.49.0\",\n",
       "  \"use_cache\": true,\n",
       "  \"vocab_size\": 50257\n",
       "}"
      ]
     },
     "execution_count": 3,
     "metadata": {},
     "output_type": "execute_result"
    }
   ],
   "source": [
    "from transformers import AutoModelForCausalLM\n",
    "\n",
    "model_actor = AutoModelForCausalLM.from_pretrained('gpt2-imdb').to(\n",
    "    device)\n",
    "\n",
    "model_actor.config"
   ]
  },
  {
   "cell_type": "code",
   "execution_count": 4,
   "id": "12c532eb",
   "metadata": {},
   "outputs": [
    {
     "name": "stderr",
     "output_type": "stream",
     "text": [
      "`loss_type=None` was set in the config but it is unrecognised.Using the default loss: `ForCausalLMLoss`.\n"
     ]
    },
    {
     "name": "stdout",
     "output_type": "stream",
     "text": [
      "0 12500 4.0063276290893555\n"
     ]
    },
    {
     "name": "stderr",
     "output_type": "stream",
     "text": [
      "The attention mask is not set and cannot be inferred from input because pad token is same as eos token. As a consequence, you may observe unexpected behavior. Please pass your input's `attention_mask` to obtain reliable results.\n"
     ]
    },
    {
     "name": "stdout",
     "output_type": "stream",
     "text": [
      "prompt= This Columbo episode is\n",
      "chosen=  one of the better and perhaps one of my personal favorites. The cast includes Rosemary's Baby John Cassavetes as the maestro, his wife played by Blythe Danner (Gwyneth Paltrow's\n",
      "gen=  a great example of how to make a great Columbo episode. The story is very simple and the characters are very likable. The\n"
     ]
    },
    {
     "name": "stderr",
     "output_type": "stream",
     "text": [
      "\n",
      "KeyboardInterrupt\n",
      "\n"
     ]
    }
   ],
   "source": [
    "optimizer = torch.optim.Adam(model_actor.parameters(), lr=1e-5)\n",
    "\n",
    "for i, data in enumerate(loader):\n",
    "    out = model_actor(**data)\n",
    "    out.loss.backward()\n",
    "    optimizer.step()\n",
    "    optimizer.zero_grad()\n",
    "\n",
    "    if i % 1000 == 0:\n",
    "        print(i, len(loader), out.loss.item())\n",
    "        \n",
    "        prompt = data['input_ids'][0]\n",
    "        chosen = prompt[5:]\n",
    "        prompt = prompt[:5]\n",
    "\n",
    "        gen = model_actor.generate(prompt.unsqueeze(0),\n",
    "                                   max_length=32,\n",
    "                                   pad_token_id=tokenizer.pad_token_id,\n",
    "                                   eos_token_id=tokenizer.eos_token_id)[0, 5:]\n",
    "\n",
    "        print('prompt=', tokenizer.decode(prompt))\n",
    "        print('chosen=', tokenizer.decode(chosen))\n",
    "        print('gen=', tokenizer.decode(gen))\n",
    "\n",
    "model_actor.save_pretrained('model/actor')"
   ]
  },
  {
   "cell_type": "code",
   "execution_count": null,
   "id": "0a2b9503-cb1e-4940-8d93-8150122b32fc",
   "metadata": {},
   "outputs": [],
   "source": []
  }
 ],
 "metadata": {
  "kernelspec": {
   "display_name": "Python 3 (ipykernel)",
   "language": "python",
   "name": "python3"
  },
  "language_info": {
   "codemirror_mode": {
    "name": "ipython",
    "version": 3
   },
   "file_extension": ".py",
   "mimetype": "text/x-python",
   "name": "python",
   "nbconvert_exporter": "python",
   "pygments_lexer": "ipython3",
   "version": "3.11.0"
  }
 },
 "nbformat": 4,
 "nbformat_minor": 5
}
